{
 "cells": [
  {
   "cell_type": "code",
   "execution_count": 3,
   "metadata": {},
   "outputs": [
    {
     "ename": "SyntaxError",
     "evalue": "(unicode error) 'unicodeescape' codec can't decode bytes in position 2-3: truncated \\UXXXXXXXX escape (Temp/ipykernel_328/1762164273.py, line 4)",
     "output_type": "error",
     "traceback": [
      "\u001b[1;36m  File \u001b[1;32m\"C:\\Users\\R0B22~1.FAR\\AppData\\Local\\Temp/ipykernel_328/1762164273.py\"\u001b[1;36m, line \u001b[1;32m4\u001b[0m\n\u001b[1;33m    atoms = read('C:\\Users\\\\r.farris10\\Dropbox\\\\0-Riccardo-tirocinio\\2022\\chemical_shift\\C6H14N2O2_PBE0_nmr_mol2.xyz')\u001b[0m\n\u001b[1;37m                                                                                                                     ^\u001b[0m\n\u001b[1;31mSyntaxError\u001b[0m\u001b[1;31m:\u001b[0m (unicode error) 'unicodeescape' codec can't decode bytes in position 2-3: truncated \\UXXXXXXXX escape\n"
     ]
    }
   ],
   "source": [
    "from ase.visualize import view\n",
    "from ase.io import read\n",
    "\n",
    "atoms = read('C:\\Users\\\\r.farris10\\Dropbox\\\\0-Riccardo-tirocinio\\2022\\chemical_shift\\C6H14N2O2_PBE0_nmr_mol2.xyz')\n",
    "view(atoms)"
   ]
  },
  {
   "cell_type": "code",
   "execution_count": null,
   "metadata": {},
   "outputs": [],
   "source": []
  }
 ],
 "metadata": {
  "kernelspec": {
   "display_name": "base",
   "language": "python",
   "name": "python3"
  },
  "language_info": {
   "codemirror_mode": {
    "name": "ipython",
    "version": 3
   },
   "file_extension": ".py",
   "mimetype": "text/x-python",
   "name": "python",
   "nbconvert_exporter": "python",
   "pygments_lexer": "ipython3",
   "version": "3.9.7"
  },
  "orig_nbformat": 4,
  "vscode": {
   "interpreter": {
    "hash": "389fbf3c59b02712da2e42592550ec860a6b7c9e7229d128694c0044c2a31b06"
   }
  }
 },
 "nbformat": 4,
 "nbformat_minor": 2
}
